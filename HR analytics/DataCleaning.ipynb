{
 "cells": [
  {
   "cell_type": "code",
   "execution_count": 1,
   "metadata": {},
   "outputs": [],
   "source": [
    "import pandas as pd"
   ]
  },
  {
   "cell_type": "code",
   "execution_count": 2,
   "metadata": {},
   "outputs": [],
   "source": [
    "#Load datasets\n",
    "data1 = pd.read_csv(r'C:\\Users\\ngocd\\source\\Github\\DataAnalysisProjects\\HR analytics\\Employee.csv')\n",
    "data2 = pd.read_csv(r'C:\\Users\\ngocd\\source\\Github\\DataAnalysisProjects\\HR analytics\\PerformanceRating.csv')"
   ]
  },
  {
   "cell_type": "code",
   "execution_count": 3,
   "metadata": {},
   "outputs": [
    {
     "name": "stdout",
     "output_type": "stream",
     "text": [
      "  EmployeeID   FirstName LastName      Gender  Age BusinessTravel  \\\n",
      "0  3012-1A41    Leonelle    Simco      Female   30    Some Travel   \n",
      "1  CBCB-9C9D     Leonerd    Aland        Male   38    Some Travel   \n",
      "2  95D7-1CE9       Ahmed    Sykes        Male   43    Some Travel   \n",
      "3  47A0-559B  Ermentrude   Berrie  Non-Binary   39    Some Travel   \n",
      "4  42CC-040A       Stace   Savege      Female   29    Some Travel   \n",
      "\n",
      "        Department  DistanceFromHome (KM) State                Ethnicity  ...  \\\n",
      "0            Sales                     27    IL                    White  ...   \n",
      "1            Sales                     23    CA                    White  ...   \n",
      "2  Human Resources                     29    CA  Asian or Asian American  ...   \n",
      "3       Technology                     12    IL                    White  ...   \n",
      "4  Human Resources                     29    CA                    White  ...   \n",
      "\n",
      "   MaritalStatus  Salary StockOptionLevel OverTime    HireDate  Attrition  \\\n",
      "0       Divorced  102059                1       No  2012-01-03         No   \n",
      "1         Single  157718                0      Yes  2012-01-04         No   \n",
      "2        Married  309964                1       No  2012-01-04         No   \n",
      "3        Married  293132                0       No  2012-01-05         No   \n",
      "4         Single   49606                0       No  2012-01-05        Yes   \n",
      "\n",
      "  YearsAtCompany YearsInMostRecentRole YearsSinceLastPromotion  \\\n",
      "0             10                     4                       9   \n",
      "1             10                     6                      10   \n",
      "2             10                     6                      10   \n",
      "3             10                    10                      10   \n",
      "4              6                     1                       1   \n",
      "\n",
      "   YearsWithCurrManager  \n",
      "0                     7  \n",
      "1                     0  \n",
      "2                     8  \n",
      "3                     0  \n",
      "4                     6  \n",
      "\n",
      "[5 rows x 23 columns]\n"
     ]
    }
   ],
   "source": [
    "print (data1.head())"
   ]
  },
  {
   "cell_type": "code",
   "execution_count": 4,
   "metadata": {},
   "outputs": [
    {
     "name": "stdout",
     "output_type": "stream",
     "text": [
      "               Age  DistanceFromHome (KM)    Education         Salary  \\\n",
      "count  1470.000000            1470.000000  1470.000000    1470.000000   \n",
      "mean     28.989796              22.502721     2.912925  112956.497959   \n",
      "std       7.993055              12.811124     1.024165  103342.889222   \n",
      "min      18.000000               1.000000     1.000000   20387.000000   \n",
      "25%      23.000000              12.000000     2.000000   43580.500000   \n",
      "50%      26.000000              22.000000     3.000000   71199.500000   \n",
      "75%      34.000000              33.000000     4.000000  142055.750000   \n",
      "max      51.000000              45.000000     5.000000  547204.000000   \n",
      "\n",
      "       StockOptionLevel  YearsAtCompany  YearsInMostRecentRole  \\\n",
      "count       1470.000000     1470.000000            1470.000000   \n",
      "mean           0.793878        4.562585               2.293197   \n",
      "std            0.852077        3.288048               2.539093   \n",
      "min            0.000000        0.000000               0.000000   \n",
      "25%            0.000000        2.000000               0.000000   \n",
      "50%            1.000000        4.000000               1.000000   \n",
      "75%            1.000000        7.000000               4.000000   \n",
      "max            3.000000       10.000000              10.000000   \n",
      "\n",
      "       YearsSinceLastPromotion  YearsWithCurrManager  \n",
      "count              1470.000000           1470.000000  \n",
      "mean                  3.440816              2.239456  \n",
      "std                   2.945194              2.505774  \n",
      "min                   0.000000              0.000000  \n",
      "25%                   1.000000              0.000000  \n",
      "50%                   3.000000              1.000000  \n",
      "75%                   6.000000              4.000000  \n",
      "max                  10.000000             10.000000  \n"
     ]
    }
   ],
   "source": [
    "print (data1.describe())"
   ]
  },
  {
   "cell_type": "code",
   "execution_count": 5,
   "metadata": {},
   "outputs": [
    {
     "name": "stdout",
     "output_type": "stream",
     "text": [
      "<class 'pandas.core.frame.DataFrame'>\n",
      "RangeIndex: 1470 entries, 0 to 1469\n",
      "Data columns (total 23 columns):\n",
      " #   Column                   Non-Null Count  Dtype \n",
      "---  ------                   --------------  ----- \n",
      " 0   EmployeeID               1470 non-null   object\n",
      " 1   FirstName                1470 non-null   object\n",
      " 2   LastName                 1470 non-null   object\n",
      " 3   Gender                   1470 non-null   object\n",
      " 4   Age                      1470 non-null   int64 \n",
      " 5   BusinessTravel           1470 non-null   object\n",
      " 6   Department               1470 non-null   object\n",
      " 7   DistanceFromHome (KM)    1470 non-null   int64 \n",
      " 8   State                    1470 non-null   object\n",
      " 9   Ethnicity                1470 non-null   object\n",
      " 10  Education                1470 non-null   int64 \n",
      " 11  EducationField           1470 non-null   object\n",
      " 12  JobRole                  1470 non-null   object\n",
      " 13  MaritalStatus            1470 non-null   object\n",
      " 14  Salary                   1470 non-null   int64 \n",
      " 15  StockOptionLevel         1470 non-null   int64 \n",
      " 16  OverTime                 1470 non-null   object\n",
      " 17  HireDate                 1470 non-null   object\n",
      " 18  Attrition                1470 non-null   object\n",
      " 19  YearsAtCompany           1470 non-null   int64 \n",
      " 20  YearsInMostRecentRole    1470 non-null   int64 \n",
      " 21  YearsSinceLastPromotion  1470 non-null   int64 \n",
      " 22  YearsWithCurrManager     1470 non-null   int64 \n",
      "dtypes: int64(9), object(14)\n",
      "memory usage: 264.3+ KB\n"
     ]
    }
   ],
   "source": [
    "data1.info()"
   ]
  },
  {
   "cell_type": "code",
   "execution_count": 6,
   "metadata": {},
   "outputs": [
    {
     "name": "stdout",
     "output_type": "stream",
     "text": [
      "Number of duplicate rows:  0\n"
     ]
    }
   ],
   "source": [
    "duplicate_rows = data1.duplicated()\n",
    "print ('Number of duplicate rows: ', duplicate_rows.sum())"
   ]
  },
  {
   "cell_type": "code",
   "execution_count": 7,
   "metadata": {},
   "outputs": [
    {
     "name": "stdout",
     "output_type": "stream",
     "text": [
      "  PerformanceID EmployeeID ReviewDate  EnvironmentSatisfaction  \\\n",
      "0          PR01  79F7-78EC   1/2/2013                        5   \n",
      "1          PR02  B61E-0F26   1/3/2013                        5   \n",
      "2          PR03  F5E3-48BB   1/3/2013                        3   \n",
      "3          PR04  0678-748A   1/4/2013                        5   \n",
      "4          PR05  541F-3E19   1/4/2013                        5   \n",
      "\n",
      "   JobSatisfaction  RelationshipSatisfaction  TrainingOpportunitiesWithinYear  \\\n",
      "0                4                         5                                1   \n",
      "1                4                         4                                1   \n",
      "2                4                         5                                3   \n",
      "3                3                         2                                2   \n",
      "4                2                         3                                1   \n",
      "\n",
      "   TrainingOpportunitiesTaken  WorkLifeBalance  SelfRating  ManagerRating  \n",
      "0                           0                4           4              4  \n",
      "1                           3                4           4              3  \n",
      "2                           2                3           5              4  \n",
      "3                           0                2           3              2  \n",
      "4                           0                4           4              3  \n"
     ]
    }
   ],
   "source": [
    "print (data2.head())"
   ]
  },
  {
   "cell_type": "code",
   "execution_count": 8,
   "metadata": {},
   "outputs": [
    {
     "name": "stdout",
     "output_type": "stream",
     "text": [
      "       EnvironmentSatisfaction  JobSatisfaction  RelationshipSatisfaction  \\\n",
      "count              6709.000000      6709.000000               6709.000000   \n",
      "mean                  3.872559         3.430616                  3.427336   \n",
      "std                   0.940701         1.152565                  1.156753   \n",
      "min                   1.000000         1.000000                  1.000000   \n",
      "25%                   3.000000         2.000000                  2.000000   \n",
      "50%                   4.000000         3.000000                  3.000000   \n",
      "75%                   5.000000         4.000000                  4.000000   \n",
      "max                   5.000000         5.000000                  5.000000   \n",
      "\n",
      "       TrainingOpportunitiesWithinYear  TrainingOpportunitiesTaken  \\\n",
      "count                      6709.000000                 6709.000000   \n",
      "mean                          2.012968                    1.017290   \n",
      "std                           0.820310                    0.950316   \n",
      "min                           1.000000                    0.000000   \n",
      "25%                           1.000000                    0.000000   \n",
      "50%                           2.000000                    1.000000   \n",
      "75%                           3.000000                    2.000000   \n",
      "max                           3.000000                    3.000000   \n",
      "\n",
      "       WorkLifeBalance   SelfRating  ManagerRating  \n",
      "count      6709.000000  6709.000000    6709.000000  \n",
      "mean          3.414667     3.984051       3.473394  \n",
      "std           1.143961     0.816432       0.961738  \n",
      "min           1.000000     3.000000       2.000000  \n",
      "25%           2.000000     3.000000       3.000000  \n",
      "50%           3.000000     4.000000       3.000000  \n",
      "75%           4.000000     5.000000       4.000000  \n",
      "max           5.000000     5.000000       5.000000  \n"
     ]
    }
   ],
   "source": [
    "print(data2.describe())"
   ]
  },
  {
   "cell_type": "code",
   "execution_count": 9,
   "metadata": {},
   "outputs": [
    {
     "data": {
      "text/plain": [
       "<bound method DataFrame.info of      PerformanceID EmployeeID ReviewDate  EnvironmentSatisfaction  \\\n",
       "0             PR01  79F7-78EC   1/2/2013                        5   \n",
       "1             PR02  B61E-0F26   1/3/2013                        5   \n",
       "2             PR03  F5E3-48BB   1/3/2013                        3   \n",
       "3             PR04  0678-748A   1/4/2013                        5   \n",
       "4             PR05  541F-3E19   1/4/2013                        5   \n",
       "...            ...        ...        ...                      ...   \n",
       "6704         PR995  4F28-CFAF  3/14/2016                        5   \n",
       "6705         PR996  7C80-94E0  3/14/2016                        3   \n",
       "6706         PR997  8233-2483  3/14/2016                        3   \n",
       "6707         PR998  8A5B-3D6E  3/15/2016                        5   \n",
       "6708         PR999  4500-37EB  3/16/2016                        4   \n",
       "\n",
       "      JobSatisfaction  RelationshipSatisfaction  \\\n",
       "0                   4                         5   \n",
       "1                   4                         4   \n",
       "2                   4                         5   \n",
       "3                   3                         2   \n",
       "4                   2                         3   \n",
       "...               ...                       ...   \n",
       "6704                3                         3   \n",
       "6705                5                         4   \n",
       "6706                4                         2   \n",
       "6707                2                         5   \n",
       "6708                5                         5   \n",
       "\n",
       "      TrainingOpportunitiesWithinYear  TrainingOpportunitiesTaken  \\\n",
       "0                                   1                           0   \n",
       "1                                   1                           3   \n",
       "2                                   3                           2   \n",
       "3                                   2                           0   \n",
       "4                                   1                           0   \n",
       "...                               ...                         ...   \n",
       "6704                                3                           1   \n",
       "6705                                2                           1   \n",
       "6706                                3                           1   \n",
       "6707                                2                           2   \n",
       "6708                                3                           1   \n",
       "\n",
       "      WorkLifeBalance  SelfRating  ManagerRating  \n",
       "0                   4           4              4  \n",
       "1                   4           4              3  \n",
       "2                   3           5              4  \n",
       "3                   2           3              2  \n",
       "4                   4           4              3  \n",
       "...               ...         ...            ...  \n",
       "6704                5           5              4  \n",
       "6705                3           4              4  \n",
       "6706                2           3              2  \n",
       "6707                4           3              3  \n",
       "6708                2           3              3  \n",
       "\n",
       "[6709 rows x 11 columns]>"
      ]
     },
     "execution_count": 9,
     "metadata": {},
     "output_type": "execute_result"
    }
   ],
   "source": [
    "data2.info"
   ]
  },
  {
   "cell_type": "code",
   "execution_count": 11,
   "metadata": {},
   "outputs": [],
   "source": [
    "merged_data = pd.merge(data1,data2, on=['EmployeeID'], how='inner')"
   ]
  },
  {
   "cell_type": "code",
   "execution_count": 12,
   "metadata": {},
   "outputs": [
    {
     "name": "stdout",
     "output_type": "stream",
     "text": [
      "               Age  DistanceFromHome (KM)    Education         Salary  \\\n",
      "count  6709.000000            6709.000000  6709.000000    6709.000000   \n",
      "mean     30.776718              22.301535     2.860486  111061.747951   \n",
      "std       7.928774              12.896953     1.028617   98267.955572   \n",
      "min      18.000000               1.000000     1.000000   20387.000000   \n",
      "25%      25.000000              12.000000     2.000000   45276.000000   \n",
      "50%      28.000000              22.000000     3.000000   75667.000000   \n",
      "75%      37.000000              33.000000     4.000000  137427.000000   \n",
      "max      51.000000              45.000000     5.000000  547204.000000   \n",
      "\n",
      "       StockOptionLevel  YearsAtCompany  YearsInMostRecentRole  \\\n",
      "count       6709.000000     6709.000000            6709.000000   \n",
      "mean           0.722015        5.727083               2.852884   \n",
      "std            0.838703        3.338471               2.813943   \n",
      "min            0.000000        0.000000               0.000000   \n",
      "25%            0.000000        3.000000               0.000000   \n",
      "50%            1.000000        6.000000               2.000000   \n",
      "75%            1.000000        9.000000               5.000000   \n",
      "max            3.000000       10.000000              10.000000   \n",
      "\n",
      "       YearsSinceLastPromotion  YearsWithCurrManager  EnvironmentSatisfaction  \\\n",
      "count              6709.000000           6709.000000              6709.000000   \n",
      "mean                  4.254136              2.814577                 3.872559   \n",
      "std                   3.179384              2.796340                 0.940701   \n",
      "min                   0.000000              0.000000                 1.000000   \n",
      "25%                   1.000000              0.000000                 3.000000   \n",
      "50%                   4.000000              2.000000                 4.000000   \n",
      "75%                   7.000000              5.000000                 5.000000   \n",
      "max                  10.000000             10.000000                 5.000000   \n",
      "\n",
      "       JobSatisfaction  RelationshipSatisfaction  \\\n",
      "count      6709.000000               6709.000000   \n",
      "mean          3.430616                  3.427336   \n",
      "std           1.152565                  1.156753   \n",
      "min           1.000000                  1.000000   \n",
      "25%           2.000000                  2.000000   \n",
      "50%           3.000000                  3.000000   \n",
      "75%           4.000000                  4.000000   \n",
      "max           5.000000                  5.000000   \n",
      "\n",
      "       TrainingOpportunitiesWithinYear  TrainingOpportunitiesTaken  \\\n",
      "count                      6709.000000                 6709.000000   \n",
      "mean                          2.012968                    1.017290   \n",
      "std                           0.820310                    0.950316   \n",
      "min                           1.000000                    0.000000   \n",
      "25%                           1.000000                    0.000000   \n",
      "50%                           2.000000                    1.000000   \n",
      "75%                           3.000000                    2.000000   \n",
      "max                           3.000000                    3.000000   \n",
      "\n",
      "       WorkLifeBalance   SelfRating  ManagerRating  \n",
      "count      6709.000000  6709.000000    6709.000000  \n",
      "mean          3.414667     3.984051       3.473394  \n",
      "std           1.143961     0.816432       0.961738  \n",
      "min           1.000000     3.000000       2.000000  \n",
      "25%           2.000000     3.000000       3.000000  \n",
      "50%           3.000000     4.000000       3.000000  \n",
      "75%           4.000000     5.000000       4.000000  \n",
      "max           5.000000     5.000000       5.000000  \n"
     ]
    }
   ],
   "source": [
    "print(merged_data.describe())"
   ]
  },
  {
   "cell_type": "code",
   "execution_count": 13,
   "metadata": {},
   "outputs": [
    {
     "name": "stdout",
     "output_type": "stream",
     "text": [
      "Shape of merged dataset:  (6709, 33)\n"
     ]
    }
   ],
   "source": [
    "print('Shape of merged dataset: ', merged_data.shape)"
   ]
  },
  {
   "cell_type": "code",
   "execution_count": 14,
   "metadata": {},
   "outputs": [
    {
     "name": "stdout",
     "output_type": "stream",
     "text": [
      "  EmployeeID FirstName LastName  Gender  Age BusinessTravel Department  \\\n",
      "0  3012-1A41  Leonelle    Simco  Female   30    Some Travel      Sales   \n",
      "1  3012-1A41  Leonelle    Simco  Female   30    Some Travel      Sales   \n",
      "2  3012-1A41  Leonelle    Simco  Female   30    Some Travel      Sales   \n",
      "3  3012-1A41  Leonelle    Simco  Female   30    Some Travel      Sales   \n",
      "4  3012-1A41  Leonelle    Simco  Female   30    Some Travel      Sales   \n",
      "\n",
      "   DistanceFromHome (KM) State Ethnicity  ...  PerformanceID  ReviewDate  \\\n",
      "0                     27    IL     White  ...         PR1295  10/30/2016   \n",
      "1                     27    IL     White  ...         PR1908  10/30/2017   \n",
      "2                     27    IL     White  ...         PR2617  10/30/2018   \n",
      "3                     27    IL     White  ...         PR3436  10/30/2019   \n",
      "4                     27    IL     White  ...          PR411  10/31/2014   \n",
      "\n",
      "  EnvironmentSatisfaction JobSatisfaction  RelationshipSatisfaction  \\\n",
      "0                       3               3                         2   \n",
      "1                       4               4                         5   \n",
      "2                       5               5                         4   \n",
      "3                       1               3                         2   \n",
      "4                       3               4                         2   \n",
      "\n",
      "   TrainingOpportunitiesWithinYear TrainingOpportunitiesTaken WorkLifeBalance  \\\n",
      "0                                3                          0               4   \n",
      "1                                3                          1               2   \n",
      "2                                3                          0               4   \n",
      "3                                3                          1               3   \n",
      "4                                1                          0               3   \n",
      "\n",
      "  SelfRating  ManagerRating  \n",
      "0          3              3  \n",
      "1          3              2  \n",
      "2          5              5  \n",
      "3          5              4  \n",
      "4          4              3  \n",
      "\n",
      "[5 rows x 33 columns]\n"
     ]
    }
   ],
   "source": [
    "print(merged_data.head())"
   ]
  },
  {
   "cell_type": "code",
   "execution_count": 15,
   "metadata": {},
   "outputs": [
    {
     "name": "stdout",
     "output_type": "stream",
     "text": [
      "EmployeeID                         0\n",
      "FirstName                          0\n",
      "LastName                           0\n",
      "Gender                             0\n",
      "Age                                0\n",
      "BusinessTravel                     0\n",
      "Department                         0\n",
      "DistanceFromHome (KM)              0\n",
      "State                              0\n",
      "Ethnicity                          0\n",
      "Education                          0\n",
      "EducationField                     0\n",
      "JobRole                            0\n",
      "MaritalStatus                      0\n",
      "Salary                             0\n",
      "StockOptionLevel                   0\n",
      "OverTime                           0\n",
      "HireDate                           0\n",
      "Attrition                          0\n",
      "YearsAtCompany                     0\n",
      "YearsInMostRecentRole              0\n",
      "YearsSinceLastPromotion            0\n",
      "YearsWithCurrManager               0\n",
      "PerformanceID                      0\n",
      "ReviewDate                         0\n",
      "EnvironmentSatisfaction            0\n",
      "JobSatisfaction                    0\n",
      "RelationshipSatisfaction           0\n",
      "TrainingOpportunitiesWithinYear    0\n",
      "TrainingOpportunitiesTaken         0\n",
      "WorkLifeBalance                    0\n",
      "SelfRating                         0\n",
      "ManagerRating                      0\n",
      "dtype: int64\n"
     ]
    }
   ],
   "source": [
    "print(merged_data.isnull().sum())"
   ]
  },
  {
   "cell_type": "code",
   "execution_count": 17,
   "metadata": {},
   "outputs": [
    {
     "name": "stdout",
     "output_type": "stream",
     "text": [
      "Number of duplicate rows:  0\n"
     ]
    }
   ],
   "source": [
    "duplicate_rows = merged_data.duplicated()\n",
    "print(\"Number of duplicate rows: \", duplicate_rows.sum())"
   ]
  },
  {
   "cell_type": "code",
   "execution_count": 18,
   "metadata": {},
   "outputs": [],
   "source": [
    "merged_data.to_csv(r'C:\\Users\\ngocd\\source\\Github\\DataAnalysisProjects\\HR analytics\\merged_data.csv', index=False)"
   ]
  }
 ],
 "metadata": {
  "kernelspec": {
   "display_name": "Python 3",
   "language": "python",
   "name": "python3"
  },
  "language_info": {
   "codemirror_mode": {
    "name": "ipython",
    "version": 3
   },
   "file_extension": ".py",
   "mimetype": "text/x-python",
   "name": "python",
   "nbconvert_exporter": "python",
   "pygments_lexer": "ipython3",
   "version": "3.11.9"
  }
 },
 "nbformat": 4,
 "nbformat_minor": 2
}
