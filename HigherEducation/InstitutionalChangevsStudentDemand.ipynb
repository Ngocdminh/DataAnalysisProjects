{
 "cells": [
  {
   "cell_type": "code",
   "execution_count": 1,
   "metadata": {},
   "outputs": [],
   "source": [
    "import pandas as pd\n",
    "import statsmodels.api as sm"
   ]
  },
  {
   "cell_type": "code",
   "execution_count": 10,
   "metadata": {},
   "outputs": [],
   "source": [
    "data = pd.read_csv(r'C:\\Users\\ngocd\\source\\Github\\DataAnalysisProjects\\HigherEducation\\IAUData.csv', encoding='latin-1')"
   ]
  },
  {
   "cell_type": "code",
   "execution_count": 25,
   "metadata": {},
   "outputs": [],
   "source": [
    "## Clean data\n",
    "data = data.dropna()\n",
    "data.columns = data.columns.str.strip()"
   ]
  },
  {
   "cell_type": "code",
   "execution_count": 30,
   "metadata": {},
   "outputs": [
    {
     "name": "stderr",
     "output_type": "stream",
     "text": [
      "C:\\Users\\ngocd\\AppData\\Local\\Temp\\ipykernel_12028\\558224073.py:7: SettingWithCopyWarning: \n",
      "A value is trying to be set on a copy of a slice from a DataFrame.\n",
      "Try using .loc[row_indexer,col_indexer] = value instead\n",
      "\n",
      "See the caveats in the documentation: https://pandas.pydata.org/pandas-docs/stable/user_guide/indexing.html#returning-a-view-versus-a-copy\n",
      "  data.loc[:,'StudentDemand'] = data[stddemand_factor].mean(axis=1)\n"
     ]
    }
   ],
   "source": [
    "## Define the factors for institutional change and student demand\n",
    "instchg_factor = ['CHGStrgy','CHGMltimodal','CHGSpace','CHGBudget','CHGCollab','CHGIntlExp','CHGEmpt']\n",
    "stddemand_factor = ['STDFlex','STDContent','STDMorCamp','STDLessCamp','STDMicroCred','STDInterPath','STDWorkOpp','STDDgtlLiteracy']\n",
    "\n",
    "## Calculate the average score for each variable\n",
    "data.loc[:,'InstitutionalChange'] = data[instchg_factor].mean(axis=1)\n",
    "data.loc[:,'StudentDemand'] = data[stddemand_factor].mean(axis=1)"
   ]
  },
  {
   "cell_type": "code",
   "execution_count": 35,
   "metadata": {},
   "outputs": [],
   "source": [
    "## Regression analysis\n",
    "X = data['InstitutionalChange'] \n",
    "y = data['StudentDemand']\n",
    "X = sm.add_constant(X) ##Add a constant term to the predictor\n",
    "\n",
    "model = sm.OLS(y,X).fit()\n",
    "predictions=model.predict(X)"
   ]
  },
  {
   "cell_type": "code",
   "execution_count": 36,
   "metadata": {},
   "outputs": [
    {
     "name": "stdout",
     "output_type": "stream",
     "text": [
      "                            OLS Regression Results                            \n",
      "==============================================================================\n",
      "Dep. Variable:          StudentDemand   R-squared:                       0.187\n",
      "Model:                            OLS   Adj. R-squared:                  0.185\n",
      "Method:                 Least Squares   F-statistic:                     85.29\n",
      "Date:                Mon, 24 Mar 2025   Prob (F-statistic):           2.02e-18\n",
      "Time:                        13:11:18   Log-Likelihood:                -305.81\n",
      "No. Observations:                 373   AIC:                             615.6\n",
      "Df Residuals:                     371   BIC:                             623.5\n",
      "Df Model:                           1                                         \n",
      "Covariance Type:            nonrobust                                         \n",
      "=======================================================================================\n",
      "                          coef    std err          t      P>|t|      [0.025      0.975]\n",
      "---------------------------------------------------------------------------------------\n",
      "const                   1.9491      0.132     14.739      0.000       1.689       2.209\n",
      "InstitutionalChange     0.3689      0.040      9.235      0.000       0.290       0.447\n",
      "==============================================================================\n",
      "Omnibus:                       34.875   Durbin-Watson:                   1.990\n",
      "Prob(Omnibus):                  0.000   Jarque-Bera (JB):               46.770\n",
      "Skew:                          -0.683   Prob(JB):                     6.98e-11\n",
      "Kurtosis:                       4.070   Cond. No.                         16.7\n",
      "==============================================================================\n",
      "\n",
      "Notes:\n",
      "[1] Standard Errors assume that the covariance matrix of the errors is correctly specified.\n"
     ]
    }
   ],
   "source": [
    "print(model.summary())"
   ]
  }
 ],
 "metadata": {
  "kernelspec": {
   "display_name": "Python 3",
   "language": "python",
   "name": "python3"
  },
  "language_info": {
   "codemirror_mode": {
    "name": "ipython",
    "version": 3
   },
   "file_extension": ".py",
   "mimetype": "text/x-python",
   "name": "python",
   "nbconvert_exporter": "python",
   "pygments_lexer": "ipython3",
   "version": "3.11.9"
  }
 },
 "nbformat": 4,
 "nbformat_minor": 2
}
