{
 "cells": [
  {
   "cell_type": "code",
   "execution_count": 1,
   "metadata": {},
   "outputs": [],
   "source": [
    "import pandas as pd\n",
    "import statsmodels.api as sm"
   ]
  },
  {
   "cell_type": "code",
   "execution_count": 2,
   "metadata": {},
   "outputs": [],
   "source": [
    "data = pd.read_csv(r'C:\\Users\\ngocd\\source\\Github\\DataAnalysisProjects\\HigherEducation\\IAUData.csv', encoding='latin-1')"
   ]
  },
  {
   "cell_type": "code",
   "execution_count": 3,
   "metadata": {},
   "outputs": [],
   "source": [
    "## Clean data\n",
    "data = data.dropna()\n",
    "data.columns = data.columns.str.strip()"
   ]
  },
  {
   "cell_type": "code",
   "execution_count": 6,
   "metadata": {},
   "outputs": [],
   "source": [
    "## Define the factors for institutional change and student demand\n",
    "stddemand_factor = ['STDFlex','STDContent','STDMorCamp','STDLessCamp','STDMicroCred','STDInterPath','STDWorkOpp','STDDgtlLiteracy']\n",
    "AItransfr_factor = ['AIGuideline','AICommittee','AIDecentr','AIonExam','AIStdInformed','AIStdTaught','AIasConcern','AIPrincip','AIasThreat','AIinSyllabi','AIforAssess','AILearnProces']\n",
    "\n",
    "## Calculate the average score for each variable\n",
    "data.loc[:,'StudentDemand'] = data[stddemand_factor].mean(axis=1)\n",
    "data.loc[:,'AITransformation'] = data[AItransfr_factor].mean(axis=1)"
   ]
  },
  {
   "cell_type": "code",
   "execution_count": 7,
   "metadata": {},
   "outputs": [],
   "source": [
    "## Regression analysis\n",
    "X = data['StudentDemand'] \n",
    "y = data['AITransformation']\n",
    "X = sm.add_constant(X) ##Add a constant term to the predictor\n",
    "\n",
    "model = sm.OLS(y,X).fit()\n",
    "predictions=model.predict(X)"
   ]
  },
  {
   "cell_type": "code",
   "execution_count": 8,
   "metadata": {},
   "outputs": [
    {
     "name": "stdout",
     "output_type": "stream",
     "text": [
      "                            OLS Regression Results                            \n",
      "==============================================================================\n",
      "Dep. Variable:       AITransformation   R-squared:                       0.015\n",
      "Model:                            OLS   Adj. R-squared:                  0.012\n",
      "Method:                 Least Squares   F-statistic:                     5.687\n",
      "Date:                Mon, 24 Mar 2025   Prob (F-statistic):             0.0176\n",
      "Time:                        13:33:29   Log-Likelihood:                -208.98\n",
      "No. Observations:                 373   AIC:                             422.0\n",
      "Df Residuals:                     371   BIC:                             429.8\n",
      "Df Model:                           1                                         \n",
      "Covariance Type:            nonrobust                                         \n",
      "=================================================================================\n",
      "                    coef    std err          t      P>|t|      [0.025      0.975]\n",
      "---------------------------------------------------------------------------------\n",
      "const             1.7721      0.116     15.334      0.000       1.545       1.999\n",
      "StudentDemand     0.0861      0.036      2.385      0.018       0.015       0.157\n",
      "==============================================================================\n",
      "Omnibus:                        2.347   Durbin-Watson:                   1.785\n",
      "Prob(Omnibus):                  0.309   Jarque-Bera (JB):                2.117\n",
      "Skew:                          -0.128   Prob(JB):                        0.347\n",
      "Kurtosis:                       3.267   Cond. No.                         18.4\n",
      "==============================================================================\n",
      "\n",
      "Notes:\n",
      "[1] Standard Errors assume that the covariance matrix of the errors is correctly specified.\n"
     ]
    }
   ],
   "source": [
    "print(model.summary())"
   ]
  }
 ],
 "metadata": {
  "kernelspec": {
   "display_name": "Python 3",
   "language": "python",
   "name": "python3"
  },
  "language_info": {
   "codemirror_mode": {
    "name": "ipython",
    "version": 3
   },
   "file_extension": ".py",
   "mimetype": "text/x-python",
   "name": "python",
   "nbconvert_exporter": "python",
   "pygments_lexer": "ipython3",
   "version": "3.11.9"
  }
 },
 "nbformat": 4,
 "nbformat_minor": 2
}
