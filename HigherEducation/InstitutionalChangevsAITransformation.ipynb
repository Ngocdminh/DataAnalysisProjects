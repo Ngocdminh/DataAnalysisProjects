{
 "cells": [
  {
   "cell_type": "code",
   "execution_count": 3,
   "metadata": {},
   "outputs": [],
   "source": [
    "import pandas as pd\n",
    "import statsmodels.api as sm"
   ]
  },
  {
   "cell_type": "code",
   "execution_count": 4,
   "metadata": {},
   "outputs": [],
   "source": [
    "data = pd.read_csv(r'C:\\Users\\ngocd\\source\\Github\\DataAnalysisProjects\\HigherEducation\\IAUData.csv', encoding='latin-1')"
   ]
  },
  {
   "cell_type": "code",
   "execution_count": 5,
   "metadata": {},
   "outputs": [],
   "source": [
    "## Clean data\n",
    "data = data.dropna()\n",
    "data.columns = data.columns.str.strip()"
   ]
  },
  {
   "cell_type": "code",
   "execution_count": 6,
   "metadata": {},
   "outputs": [],
   "source": [
    "## Define the factors for institutional change and student demand\n",
    "instchg_factor = ['CHGStrgy','CHGMltimodal','CHGSpace','CHGBudget','CHGCollab','CHGIntlExp','CHGEmpt']\n",
    "AItransfr_factor = ['AIGuideline','AICommittee','AIDecentr','AIonExam','AIStdInformed','AIStdTaught','AIasConcern','AIPrincip','AIasThreat','AIinSyllabi','AIforAssess','AILearnProces']\n",
    "\n",
    "## Calculate the average score for each variable\n",
    "data.loc[:,'InstitutionalChange'] = data[instchg_factor].mean(axis=1)\n",
    "data.loc[:,'AITransformation'] = data[AItransfr_factor].mean(axis=1)"
   ]
  },
  {
   "cell_type": "code",
   "execution_count": 7,
   "metadata": {},
   "outputs": [],
   "source": [
    "## Regression analysis\n",
    "X = data['InstitutionalChange'] \n",
    "y = data['AITransformation']\n",
    "X = sm.add_constant(X) ##Add a constant term to the predictor\n",
    "\n",
    "model = sm.OLS(y,X).fit()\n",
    "predictions=model.predict(X)"
   ]
  },
  {
   "cell_type": "code",
   "execution_count": 8,
   "metadata": {},
   "outputs": [
    {
     "name": "stdout",
     "output_type": "stream",
     "text": [
      "                            OLS Regression Results                            \n",
      "==============================================================================\n",
      "Dep. Variable:       AITransformation   R-squared:                       0.016\n",
      "Model:                            OLS   Adj. R-squared:                  0.013\n",
      "Method:                 Least Squares   F-statistic:                     5.971\n",
      "Date:                Mon, 24 Mar 2025   Prob (F-statistic):             0.0150\n",
      "Time:                        13:24:29   Log-Likelihood:                -208.83\n",
      "No. Observations:                 373   AIC:                             421.7\n",
      "Df Residuals:                     371   BIC:                             429.5\n",
      "Df Model:                           1                                         \n",
      "Covariance Type:            nonrobust                                         \n",
      "=======================================================================================\n",
      "                          coef    std err          t      P>|t|      [0.025      0.975]\n",
      "---------------------------------------------------------------------------------------\n",
      "const                   1.7994      0.102     17.646      0.000       1.599       2.000\n",
      "InstitutionalChange     0.0753      0.031      2.444      0.015       0.015       0.136\n",
      "==============================================================================\n",
      "Omnibus:                        2.038   Durbin-Watson:                   1.793\n",
      "Prob(Omnibus):                  0.361   Jarque-Bera (JB):                1.805\n",
      "Skew:                          -0.112   Prob(JB):                        0.406\n",
      "Kurtosis:                       3.257   Cond. No.                         16.7\n",
      "==============================================================================\n",
      "\n",
      "Notes:\n",
      "[1] Standard Errors assume that the covariance matrix of the errors is correctly specified.\n"
     ]
    }
   ],
   "source": [
    "print(model.summary())"
   ]
  }
 ],
 "metadata": {
  "kernelspec": {
   "display_name": "Python 3",
   "language": "python",
   "name": "python3"
  },
  "language_info": {
   "codemirror_mode": {
    "name": "ipython",
    "version": 3
   },
   "file_extension": ".py",
   "mimetype": "text/x-python",
   "name": "python",
   "nbconvert_exporter": "python",
   "pygments_lexer": "ipython3",
   "version": "3.11.9"
  }
 },
 "nbformat": 4,
 "nbformat_minor": 2
}
